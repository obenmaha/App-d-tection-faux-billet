{
 "cells": [
  {
   "cell_type": "code",
   "execution_count": 8,
   "metadata": {},
   "outputs": [],
   "source": [
    "import pandas as pd\n",
    "import numpy as np\n",
    "import matplotlib.pyplot as plt\n",
    "import seaborn as sns\n",
    "\n",
    "from sklearn.model_selection import train_test_split\n",
    "from sklearn.preprocessing import StandardScaler\n",
    "from sklearn.metrics import accuracy_score, confusion_matrix, classification_report\n",
    "\n",
    "# Modèles\n",
    "from sklearn.linear_model import LogisticRegression\n",
    "from sklearn.cluster import KMeans\n",
    "from sklearn.neighbors import KNeighborsClassifier\n",
    "from sklearn.ensemble import RandomForestClassifier\n",
    "from sklearn.linear_model import LinearRegression"
   ]
  },
  {
   "cell_type": "code",
   "execution_count": 10,
   "metadata": {},
   "outputs": [],
   "source": [
    "data = pd.read_csv(\"./billets.csv\", sep=\";\")"
   ]
  },
  {
   "cell_type": "code",
   "execution_count": 12,
   "metadata": {},
   "outputs": [
    {
     "name": "stdout",
     "output_type": "stream",
     "text": [
      "   is_genuine  diagonal  height_left  height_right  margin_low  margin_up  \\\n",
      "0        True    171.81       104.86        104.95        4.52       2.89   \n",
      "1        True    171.46       103.36        103.66        3.77       2.99   \n",
      "2        True    172.69       104.48        103.50        4.40       2.94   \n",
      "3        True    171.36       103.91        103.94        3.62       3.01   \n",
      "4        True    171.73       104.28        103.46        4.04       3.48   \n",
      "\n",
      "   length  \n",
      "0  112.83  \n",
      "1  113.09  \n",
      "2  113.16  \n",
      "3  113.51  \n",
      "4  112.54  \n",
      "<class 'pandas.core.frame.DataFrame'>\n",
      "RangeIndex: 1500 entries, 0 to 1499\n",
      "Data columns (total 7 columns):\n",
      " #   Column        Non-Null Count  Dtype  \n",
      "---  ------        --------------  -----  \n",
      " 0   is_genuine    1500 non-null   bool   \n",
      " 1   diagonal      1500 non-null   float64\n",
      " 2   height_left   1500 non-null   float64\n",
      " 3   height_right  1500 non-null   float64\n",
      " 4   margin_low    1463 non-null   float64\n",
      " 5   margin_up     1500 non-null   float64\n",
      " 6   length        1500 non-null   float64\n",
      "dtypes: bool(1), float64(6)\n",
      "memory usage: 71.9 KB\n",
      "None\n",
      "          diagonal  height_left  height_right   margin_low    margin_up  \\\n",
      "count  1500.000000  1500.000000   1500.000000  1463.000000  1500.000000   \n",
      "mean    171.958440   104.029533    103.920307     4.485967     3.151473   \n",
      "std       0.305195     0.299462      0.325627     0.663813     0.231813   \n",
      "min     171.040000   103.140000    102.820000     2.980000     2.270000   \n",
      "25%     171.750000   103.820000    103.710000     4.015000     2.990000   \n",
      "50%     171.960000   104.040000    103.920000     4.310000     3.140000   \n",
      "75%     172.170000   104.230000    104.150000     4.870000     3.310000   \n",
      "max     173.010000   104.880000    104.950000     6.900000     3.910000   \n",
      "\n",
      "           length  \n",
      "count  1500.00000  \n",
      "mean    112.67850  \n",
      "std       0.87273  \n",
      "min     109.49000  \n",
      "25%     112.03000  \n",
      "50%     112.96000  \n",
      "75%     113.34000  \n",
      "max     114.44000  \n"
     ]
    }
   ],
   "source": [
    "# Afficher les premières lignes\n",
    "print(data.head())\n",
    "\n",
    "# Informations sur le dataset\n",
    "print(data.info())\n",
    "\n",
    "# Statistiques descriptives\n",
    "print(data.describe())"
   ]
  },
  {
   "cell_type": "code",
   "execution_count": 13,
   "metadata": {},
   "outputs": [
    {
     "name": "stdout",
     "output_type": "stream",
     "text": [
      "is_genuine       0\n",
      "diagonal         0\n",
      "height_left      0\n",
      "height_right     0\n",
      "margin_low      37\n",
      "margin_up        0\n",
      "length           0\n",
      "dtype: int64\n"
     ]
    }
   ],
   "source": [
    "# Vérifier les valeurs manquantes\n",
    "print(data.isnull().sum())"
   ]
  }
 ],
 "metadata": {
  "kernelspec": {
   "display_name": "base",
   "language": "python",
   "name": "python3"
  },
  "language_info": {
   "codemirror_mode": {
    "name": "ipython",
    "version": 3
   },
   "file_extension": ".py",
   "mimetype": "text/x-python",
   "name": "python",
   "nbconvert_exporter": "python",
   "pygments_lexer": "ipython3",
   "version": "3.12.3"
  }
 },
 "nbformat": 4,
 "nbformat_minor": 2
}
