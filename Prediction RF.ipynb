{
 "cells": [
  {
   "cell_type": "code",
   "execution_count": 20,
   "metadata": {},
   "outputs": [
    {
     "data": {
      "text/html": [
       "<div>\n",
       "<style scoped>\n",
       "    .dataframe tbody tr th:only-of-type {\n",
       "        vertical-align: middle;\n",
       "    }\n",
       "\n",
       "    .dataframe tbody tr th {\n",
       "        vertical-align: top;\n",
       "    }\n",
       "\n",
       "    .dataframe thead th {\n",
       "        text-align: right;\n",
       "    }\n",
       "</style>\n",
       "<table border=\"1\" class=\"dataframe\">\n",
       "  <thead>\n",
       "    <tr style=\"text-align: right;\">\n",
       "      <th></th>\n",
       "      <th>diagonal</th>\n",
       "      <th>height_left</th>\n",
       "      <th>height_right</th>\n",
       "      <th>margin_low</th>\n",
       "      <th>margin_up</th>\n",
       "      <th>length</th>\n",
       "      <th>id</th>\n",
       "    </tr>\n",
       "  </thead>\n",
       "  <tbody>\n",
       "    <tr>\n",
       "      <th>0</th>\n",
       "      <td>171.76</td>\n",
       "      <td>104.01</td>\n",
       "      <td>103.54</td>\n",
       "      <td>5.21</td>\n",
       "      <td>3.30</td>\n",
       "      <td>111.42</td>\n",
       "      <td>A_1</td>\n",
       "    </tr>\n",
       "    <tr>\n",
       "      <th>1</th>\n",
       "      <td>171.87</td>\n",
       "      <td>104.17</td>\n",
       "      <td>104.13</td>\n",
       "      <td>6.00</td>\n",
       "      <td>3.31</td>\n",
       "      <td>112.09</td>\n",
       "      <td>A_2</td>\n",
       "    </tr>\n",
       "    <tr>\n",
       "      <th>2</th>\n",
       "      <td>172.00</td>\n",
       "      <td>104.58</td>\n",
       "      <td>104.29</td>\n",
       "      <td>4.99</td>\n",
       "      <td>3.39</td>\n",
       "      <td>111.57</td>\n",
       "      <td>A_3</td>\n",
       "    </tr>\n",
       "    <tr>\n",
       "      <th>3</th>\n",
       "      <td>172.49</td>\n",
       "      <td>104.55</td>\n",
       "      <td>104.34</td>\n",
       "      <td>4.44</td>\n",
       "      <td>3.03</td>\n",
       "      <td>113.20</td>\n",
       "      <td>A_4</td>\n",
       "    </tr>\n",
       "    <tr>\n",
       "      <th>4</th>\n",
       "      <td>171.65</td>\n",
       "      <td>103.63</td>\n",
       "      <td>103.56</td>\n",
       "      <td>3.77</td>\n",
       "      <td>3.16</td>\n",
       "      <td>113.33</td>\n",
       "      <td>A_5</td>\n",
       "    </tr>\n",
       "  </tbody>\n",
       "</table>\n",
       "</div>"
      ],
      "text/plain": [
       "   diagonal  height_left  height_right  margin_low  margin_up  length   id\n",
       "0    171.76       104.01        103.54        5.21       3.30  111.42  A_1\n",
       "1    171.87       104.17        104.13        6.00       3.31  112.09  A_2\n",
       "2    172.00       104.58        104.29        4.99       3.39  111.57  A_3\n",
       "3    172.49       104.55        104.34        4.44       3.03  113.20  A_4\n",
       "4    171.65       103.63        103.56        3.77       3.16  113.33  A_5"
      ]
     },
     "metadata": {},
     "output_type": "display_data"
    },
    {
     "data": {
      "text/plain": [
       "diagonal        0\n",
       "height_left     0\n",
       "height_right    0\n",
       "margin_low      0\n",
       "margin_up       0\n",
       "length          0\n",
       "id              0\n",
       "dtype: int64"
      ]
     },
     "metadata": {},
     "output_type": "display_data"
    }
   ],
   "source": [
    "\n",
    "import pandas as pd\n",
    "\n",
    "\n",
    "new_data = pd.read_csv(\"./billets_production.csv\")\n",
    "display(new_data.head())\n",
    "display(new_data.isnull().sum())\n"
   ]
  },
  {
   "cell_type": "code",
   "execution_count": 12,
   "metadata": {},
   "outputs": [],
   "source": [
    "from sklearn.preprocessing import StandardScaler\n",
    "\n",
    "# Sélectionner les colonnes géométriques (sans la colonne cible)\n",
    "X_new = new_data[['diagonal','height_left','height_right','margin_low','margin_up','length']]\n",
    "\n",
    "# Appliquer le même scaler utilisé lors de l'entraînement\n",
    "scaler = StandardScaler()\n",
    "X_new_scaled = scaler.fit_transform(X_new)"
   ]
  },
  {
   "cell_type": "code",
   "execution_count": 13,
   "metadata": {},
   "outputs": [
    {
     "data": {
      "text/plain": [
       "array([[-0.66422777, -0.50222407, -1.22890038,  0.43822393,  0.48568108,\n",
       "        -1.12401394],\n",
       "       [-0.28760378, -0.0507867 ,  0.44945894,  1.4937023 ,  0.56401673,\n",
       "        -0.28910336],\n",
       "       [ 0.15749731,  1.10602155,  0.90460723,  0.14429325,  1.19070199,\n",
       "        -0.93709366],\n",
       "       [ 1.83518602,  1.02137704,  1.04684107, -0.59053347, -1.62938167,\n",
       "         1.09410669],\n",
       "       [-1.04085177, -1.57438781, -1.17200685, -1.48568601, -0.61101813,\n",
       "         1.25610427]])"
      ]
     },
     "execution_count": 13,
     "metadata": {},
     "output_type": "execute_result"
    }
   ],
   "source": [
    "X_new_scaled"
   ]
  },
  {
   "cell_type": "code",
   "execution_count": 19,
   "metadata": {},
   "outputs": [
    {
     "name": "stdout",
     "output_type": "stream",
     "text": [
      "   diagonal  height_left  height_right  margin_low  margin_up  length  \\\n",
      "0    171.76       104.01        103.54        5.21       3.30  111.42   \n",
      "1    171.87       104.17        104.13        6.00       3.31  112.09   \n",
      "2    172.00       104.58        104.29        4.99       3.39  111.57   \n",
      "3    172.49       104.55        104.34        4.44       3.03  113.20   \n",
      "4    171.65       103.63        103.56        3.77       3.16  113.33   \n",
      "\n",
      "   Prediction_is_genuine  \n",
      "0                      0  \n",
      "1                      0  \n",
      "2                      0  \n",
      "3                      0  \n",
      "4                      0  \n"
     ]
    },
    {
     "name": "stderr",
     "output_type": "stream",
     "text": [
      "d:\\Users\\ZAPHAS\\anaconda3\\Lib\\site-packages\\sklearn\\base.py:493: UserWarning: X does not have valid feature names, but RandomForestClassifier was fitted with feature names\n",
      "  warnings.warn(\n"
     ]
    }
   ],
   "source": [
    "# Charger le modèle (par exemple un modèle Random Forest)\n",
    "import joblib\n",
    "\n",
    "# Charger le modèle et le seuil\n",
    "model_and_threshold = joblib.load('random_forest_model.pkl')\n",
    "rf_model = model_and_threshold['model']\n",
    "optimal_threshold_loaded = model_and_threshold['threshold']\n",
    "\n",
    "# Appliquer le modèle pour faire des prédictions\n",
    "y_pred_new = rf_model.predict(X_new_scaled)\n",
    "\n",
    "# Ajouter la prédiction au dataframe original pour visualiser\n",
    "new_data['Prediction_is_genuine'] = y_pred_new\n",
    "\n",
    "# Afficher les résultats\n",
    "print(new_data[['diagonal','height_left','height_right','margin_low','margin_up','length', 'Prediction_is_genuine']].head())\n"
   ]
  },
  {
   "cell_type": "code",
   "execution_count": 15,
   "metadata": {},
   "outputs": [
    {
     "name": "stderr",
     "output_type": "stream",
     "text": [
      "C:\\Users\\ZAPHAS\\AppData\\Local\\Temp\\ipykernel_18180\\2585572832.py:2: FutureWarning: Downcasting behavior in `replace` is deprecated and will be removed in a future version. To retain the old behavior, explicitly call `result.infer_objects(copy=False)`. To opt-in to the future behavior, set `pd.set_option('future.no_silent_downcasting', True)`\n",
      "  new_data[\"Prediction_is_genuine\"]=new_data[\"Prediction_is_genuine\"].replace([1,0], [True, False])\n"
     ]
    }
   ],
   "source": [
    "# Commençons par changer le bool par du binaire pour la colonne is_genuine\n",
    "new_data[\"Prediction_is_genuine\"]=new_data[\"Prediction_is_genuine\"].replace([1,0], [True, False])"
   ]
  },
  {
   "cell_type": "code",
   "execution_count": 16,
   "metadata": {},
   "outputs": [
    {
     "data": {
      "image/png": "[encoded data removed]",
      "text/plain": [
       "<Figure size 640x480 with 1 Axes>"
      ]
     },
     "metadata": {},
     "output_type": "display_data"
    }
   ],
   "source": [
    "import matplotlib.pyplot as plt\n",
    "import seaborn as sns\n",
    "\n",
    "# Visualiser la répartition des prédictions\n",
    "sns.countplot(x=\"Prediction_is_genuine\", data=new_data)\n",
    "plt.title(\"Répartition des billets vrais et faux (prédictions)\")\n",
    "plt.show()\n"
   ]
  },
  {
   "cell_type": "code",
   "execution_count": 17,
   "metadata": {},
   "outputs": [],
   "source": [
    "# Sauvegarder le fichier avec les prédictions\n",
    "new_data.to_csv('billets_avec_predictions.csv', index=False)"
   ]
  },
  {
   "cell_type": "code",
   "execution_count": 18,
   "metadata": {},
   "outputs": [
    {
     "name": "stdout",
     "output_type": "stream",
     "text": [
      "   diagonal  height_left  height_right  margin_low  margin_up  length   id  \\\n",
      "0    171.76       104.01        103.54        5.21       3.30  111.42  A_1   \n",
      "1    171.87       104.17        104.13        6.00       3.31  112.09  A_2   \n",
      "2    172.00       104.58        104.29        4.99       3.39  111.57  A_3   \n",
      "3    172.49       104.55        104.34        4.44       3.03  113.20  A_4   \n",
      "4    171.65       103.63        103.56        3.77       3.16  113.33  A_5   \n",
      "\n",
      "   Prediction_is_genuine  \n",
      "0                  False  \n",
      "1                  False  \n",
      "2                  False  \n",
      "3                  False  \n",
      "4                  False  \n"
     ]
    }
   ],
   "source": [
    "# Charger le nouveau fichier CSV\n",
    "new_data_prediction = pd.read_csv(\"./billets_avec_predictions.csv\")\n",
    "\n",
    "# Vérifier les premières lignes pour s'assurer que le fichier est bien formaté\n",
    "print(new_data_prediction.head())"
   ]
  }
 ],
 "metadata": {
  "kernelspec": {
   "display_name": "base",
   "language": "python",
   "name": "python3"
  },
  "language_info": {
   "codemirror_mode": {
    "name": "ipython",
    "version": 3
   },
   "file_extension": ".py",
   "mimetype": "text/x-python",
   "name": "python",
   "nbconvert_exporter": "python",
   "pygments_lexer": "ipython3",
   "version": "3.12.3"
  }
 },
 "nbformat": 4,
 "nbformat_minor": 2
}
