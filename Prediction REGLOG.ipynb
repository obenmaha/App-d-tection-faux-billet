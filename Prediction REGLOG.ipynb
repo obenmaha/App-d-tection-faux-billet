{
 "cells": [
  {
   "cell_type": "code",
   "execution_count": 22,
   "metadata": {},
   "outputs": [
    {
     "name": "stdout",
     "output_type": "stream",
     "text": [
      "   diagonal  height_left  height_right  margin_low  margin_up  length   id\n",
      "0    171.76       104.01        103.54        5.21       3.30  111.42  A_1\n",
      "1    171.87       104.17        104.13        6.00       3.31  112.09  A_2\n",
      "2    172.00       104.58        104.29        4.99       3.39  111.57  A_3\n",
      "3    172.49       104.55        104.34        4.44       3.03  113.20  A_4\n",
      "4    171.65       103.63        103.56        3.77       3.16  113.33  A_5\n",
      "diagonal        0\n",
      "height_left     0\n",
      "height_right    0\n",
      "margin_low      0\n",
      "margin_up       0\n",
      "length          0\n",
      "id              0\n",
      "dtype: int64\n"
     ]
    }
   ],
   "source": [
    "import warnings\n",
    "warnings.simplefilter(action='ignore', category=FutureWarning)\n",
    "import pandas as pd\n",
    "\n",
    "# Charger le nouveau fichier CSV\n",
    "new_data = pd.read_csv(\"./billets_production.csv\")\n",
    "\n",
    "# Vérifier les premières lignes pour s'assurer que le fichier est bien formaté\n",
    "print(new_data.head())\n",
    "\n",
    "# Optionnel : Vérifier qu'il n'y a pas de valeurs manquantes\n",
    "print(new_data.isnull().sum())\n"
   ]
  },
  {
   "cell_type": "code",
   "execution_count": 23,
   "metadata": {},
   "outputs": [],
   "source": [
    "from sklearn.preprocessing import StandardScaler\n",
    "\n",
    "# Sélectionner les colonnes géométriques (sans la colonne cible)\n",
    "X_new = new_data[['length', 'height_left', 'height_right', 'margin_up', 'margin_low', 'diagonal']]\n",
    "\n",
    "# Appliquer le même scaler utilisé lors de l'entraînement\n",
    "scaler = StandardScaler()\n",
    "X_new_scaled = scaler.fit_transform(X_new)\n"
   ]
  },
  {
   "cell_type": "code",
   "execution_count": 24,
   "metadata": {},
   "outputs": [
    {
     "name": "stdout",
     "output_type": "stream",
     "text": [
      "   length  height_left  height_right  margin_up  margin_low  diagonal  \\\n",
      "0  111.42       104.01        103.54       3.30        5.21    171.76   \n",
      "1  112.09       104.17        104.13       3.31        6.00    171.87   \n",
      "2  111.57       104.58        104.29       3.39        4.99    172.00   \n",
      "3  113.20       104.55        104.34       3.03        4.44    172.49   \n",
      "4  113.33       103.63        103.56       3.16        3.77    171.65   \n",
      "\n",
      "   Prediction_is_genuine  \n",
      "0                      0  \n",
      "1                      0  \n",
      "2                      0  \n",
      "3                      1  \n",
      "4                      1  \n"
     ]
    }
   ],
   "source": [
    "# Charger le modèle (par exemple un modèle Random Forest)\n",
    "import joblib\n",
    "\n",
    "# Charger le modèle et le seuil\n",
    "model_and_threshold = joblib.load('logreg_model.pkl')\n",
    "logreg_model = model_and_threshold['model']\n",
    "optimal_threshold_loaded = model_and_threshold['threshold']\n",
    "\n",
    "# Appliquer le modèle pour faire des prédictions\n",
    "y_pred_new = logreg_model.predict(X_new_scaled)\n",
    "\n",
    "# Ajouter la prédiction au dataframe original pour visualiser\n",
    "new_data['Prediction_is_genuine'] = y_pred_new\n",
    "\n",
    "# Afficher les résultats\n",
    "print(new_data[['length', 'height_left', 'height_right', 'margin_up', 'margin_low', 'diagonal', 'Prediction_is_genuine']].head())\n"
   ]
  },
  {
   "cell_type": "code",
   "execution_count": 25,
   "metadata": {},
   "outputs": [],
   "source": [
    "# Commençons par changer le bool par du binaire pour la colonne is_genuine\n",
    "new_data[\"Prediction_is_genuine\"]=new_data[\"Prediction_is_genuine\"].replace([1,0], [\"True\", \"False\"])"
   ]
  },
  {
   "cell_type": "code",
   "execution_count": 26,
   "metadata": {},
   "outputs": [
    {
     "data": {
      "image/png": "[encoded data removed]",
      "text/plain": [
       "<Figure size 640x480 with 1 Axes>"
      ]
     },
     "metadata": {},
     "output_type": "display_data"
    }
   ],
   "source": [
    "import matplotlib.pyplot as plt\n",
    "import seaborn as sns\n",
    "\n",
    "# Visualiser la répartition des prédictions\n",
    "sns.countplot(x='Prediction_is_genuine', data=new_data)\n",
    "plt.title(\"Répartition des billets vrais et faux (prédictions)\")\n",
    "plt.show()"
   ]
  },
  {
   "cell_type": "code",
   "execution_count": 27,
   "metadata": {},
   "outputs": [],
   "source": [
    "# Sauvegarder le fichier avec les prédictions\n",
    "new_data.to_csv('billets_avec_predictions_REGLOG.csv', index=False)"
   ]
  },
  {
   "cell_type": "code",
   "execution_count": 28,
   "metadata": {},
   "outputs": [
    {
     "name": "stdout",
     "output_type": "stream",
     "text": [
      "   diagonal  height_left  height_right  margin_low  margin_up  length   id  \\\n",
      "0    171.76       104.01        103.54        5.21       3.30  111.42  A_1   \n",
      "1    171.87       104.17        104.13        6.00       3.31  112.09  A_2   \n",
      "2    172.00       104.58        104.29        4.99       3.39  111.57  A_3   \n",
      "3    172.49       104.55        104.34        4.44       3.03  113.20  A_4   \n",
      "4    171.65       103.63        103.56        3.77       3.16  113.33  A_5   \n",
      "\n",
      "   Prediction_is_genuine  \n",
      "0                  False  \n",
      "1                  False  \n",
      "2                  False  \n",
      "3                   True  \n",
      "4                   True  \n"
     ]
    }
   ],
   "source": [
    "# Charger le nouveau fichier CSV\n",
    "new_data_prediction = pd.read_csv(\"./billets_avec_predictions_REGLOG.csv\")\n",
    "\n",
    "# Vérifier les premières lignes pour s'assurer que le fichier est bien formaté\n",
    "print(new_data_prediction.head())"
   ]
  }
 ],
 "metadata": {
  "kernelspec": {
   "display_name": "base",
   "language": "python",
   "name": "python3"
  },
  "language_info": {
   "codemirror_mode": {
    "name": "ipython",
    "version": 3
   },
   "file_extension": ".py",
   "mimetype": "text/x-python",
   "name": "python",
   "nbconvert_exporter": "python",
   "pygments_lexer": "ipython3",
   "version": "3.12.3"
  }
 },
 "nbformat": 4,
 "nbformat_minor": 2
}
